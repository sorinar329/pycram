{
 "cells": [
  {
   "cell_type": "markdown",
   "source": [
    "## TODO:\n",
    "\n",
    "- Function to retrieve all Tasks\n",
    "- Function to retrieve all Ingredients\n",
    "- Function to retrieve all Container\n",
    "- Function to retrieve all Tools\n",
    "- Add Errors for Tool and Container Combination\n",
    "- Select Field for all Tasks\n",
    "- Select Field for all Ingredients, divided by Ingredients Type\n",
    "- Select Field for Container\n",
    "- Select Field for Tools\n",
    "- Function that Checks Functionality of Container +  Tool\n",
    "- Function that executes Motion with choosen Task, Ingredients, Container, Tools\n",
    "- Function that creates a Task Tree with choosen Task, Ingredients, Container Tools\n",
    "- Add Query Builder in Notebook?"
   ],
   "metadata": {
    "collapsed": false,
    "pycharm": {
     "name": "#%% md\n"
    }
   }
  },
  {
   "cell_type": "code",
   "execution_count": 2,
   "outputs": [
    {
     "name": "stderr",
     "output_type": "stream",
     "text": [
      "Unknown attribute \"type\" in /robot[@name='pr2']/link[@name='base_laser_link']\n",
      "Unknown attribute \"type\" in /robot[@name='pr2']/link[@name='wide_stereo_optical_frame']\n",
      "Unknown attribute \"type\" in /robot[@name='pr2']/link[@name='narrow_stereo_optical_frame']\n",
      "Unknown attribute \"type\" in /robot[@name='pr2']/link[@name='laser_tilt_link']\n"
     ]
    }
   ],
   "source": [
    "from pycram.process_module import simulated_robot, with_simulated_robot\n",
    "from pycram.designators.action_designator import *\n",
    "from pycram.enums import Arms\n",
    "from pycram.designators.object_designator import *\n",
    "from pycram.designators.object_designator import BelieveObject\n",
    "import pycram.helper as helper\n",
    "from pycram.resolver.action.mixing import MixingActionSWRL\n",
    "import pandas as pd\n",
    "from ipywidgets import widgets"
   ],
   "metadata": {
    "collapsed": false,
    "pycharm": {
     "name": "#%%\n"
    }
   }
  },
  {
   "cell_type": "code",
   "execution_count": 12,
   "outputs": [
    {
     "data": {
      "text/plain": "Dropdown(description='Task:', options=('Task 1', 'Task 2', 'Task 3'), value='Task 1')",
      "application/vnd.jupyter.widget-view+json": {
       "version_major": 2,
       "version_minor": 0,
       "model_id": "1f5494c214c147fd9953379593dac092"
      }
     },
     "metadata": {},
     "output_type": "display_data"
    },
    {
     "data": {
      "text/plain": "SelectMultiple(description='Ingredients', options=('Ingredient 1', 'Ingredient 2', 'Ingredient 3'), value=())",
      "application/vnd.jupyter.widget-view+json": {
       "version_major": 2,
       "version_minor": 0,
       "model_id": "c06265d607c247dba0df7529038a79fb"
      }
     },
     "metadata": {},
     "output_type": "display_data"
    },
    {
     "data": {
      "text/plain": "Button(description='Execute', icon='check', style=ButtonStyle(), tooltip='Click to execute')",
      "application/vnd.jupyter.widget-view+json": {
       "version_major": 2,
       "version_minor": 0,
       "model_id": "b1e24fdb2b7641919af28077dd601852"
      }
     },
     "metadata": {},
     "output_type": "display_data"
    }
   ],
   "source": [
    "import ipywidgets as widgets\n",
    "from IPython.display import display\n",
    "\n",
    "# Define your function\n",
    "def do_something(task, ingredients):\n",
    "    print(f\"Task: {task}, Ingredients: {', '.join(ingredients)}\")\n",
    "\n",
    "# Create dropdown widget for tasks\n",
    "tasks = ['Task 1', 'Task 2', 'Task 3']\n",
    "task_dropdown = widgets.Dropdown(\n",
    "    options=tasks,\n",
    "    description='Task:',\n",
    "    disabled=False,\n",
    ")\n",
    "\n",
    "# Create select multiple widget for ingredients\n",
    "ingredients = ['Ingredient 1', 'Ingredient 2', 'Ingredient 3']\n",
    "ingredients_select = widgets.SelectMultiple(\n",
    "    options=ingredients,\n",
    "    description='Ingredients',\n",
    "    disabled=False\n",
    ")\n",
    "\n",
    "# Create a button to execute the function\n",
    "execute_button = widgets.Button(\n",
    "    description='Execute',\n",
    "    disabled=False,\n",
    "    button_style='',  # 'success', 'info', 'warning', 'danger' or ''\n",
    "    tooltip='Click to execute',\n",
    "    icon='check'  # (FontAwesome names without the `fa-` prefix)\n",
    ")\n",
    "\n",
    "# Define the function to be called when button is clicked\n",
    "def on_button_clicked(b):\n",
    "    print(1)\n",
    "    selected_task = task_dropdown.value\n",
    "    selected_ingredients = list(ingredients_select.value)\n",
    "    if selected_task and selected_ingredients:\n",
    "        do_something(selected_task, selected_ingredients)\n",
    "    else:\n",
    "        print(\"Please select both a task and at least one ingredient.\")\n",
    "\n",
    "# Bind the button click event to the function\n",
    "execute_button.on_click(on_button_clicked)\n",
    "\n",
    "# Display the widgets\n",
    "display(task_dropdown, ingredients_select, execute_button)\n"
   ],
   "metadata": {
    "collapsed": false,
    "pycharm": {
     "name": "#%%\n"
    }
   }
  },
  {
   "cell_type": "code",
   "execution_count": 4,
   "outputs": [],
   "source": [
    "spawning_poses = {\n",
    "    'whisk': Pose([0.9, 0.6, 0.8], [0, 0, 0, 1]),\n",
    "    'woodenspoon': Pose([0.7, 0.6, 0.8], [0, 0, 0, 1]),\n",
    "    'big-bowl': Pose([-0.85, 0.9, 0.91], [0, 0, -1, -1]),\n",
    "    'pot': Pose([-0.85, 0.9, 0.86], [0, 0, -1, -1])\n",
    "}"
   ],
   "metadata": {
    "collapsed": false,
    "pycharm": {
     "name": "#%%\n"
    }
   }
  },
  {
   "cell_type": "code",
   "execution_count": 5,
   "outputs": [
    {
     "name": "stderr",
     "output_type": "stream",
     "text": [
      "Scalar element defined multiple times: limit\n"
     ]
    }
   ],
   "source": [
    "world = BulletWorld()\n",
    "world.set_gravity([0, 0, -9.8])\n",
    "# plane = Object(\"floor\", \"environment\", \"plane.urdf\", world=world)\n",
    "robot = Object(\"pr2\", \"robot\", \"../../resources/\" + robot_description.name + \".urdf\")\n",
    "robot_desig = ObjectDesignatorDescription(names=[\"pr2\"]).resolve()\n",
    "kitchen = Object(\"kitchen\", \"environment\", \"kitchen.urdf\")\n",
    "robot.set_joint_state(robot_description.torso_joint, 0.24)\n",
    "kitchen_desig = ObjectDesignatorDescription(names=[\"kitchen\"])"
   ],
   "metadata": {
    "collapsed": false,
    "pycharm": {
     "name": "#%%\n"
    }
   }
  },
  {
   "cell_type": "code",
   "execution_count": 6,
   "outputs": [
    {
     "name": "stderr",
     "output_type": "stream",
     "text": [
      "Scalar element defined multiple times: limit\n"
     ]
    }
   ],
   "source": [
    "whisk = Object(\"whisk\", \"whisk\", \"whisk.stl\", spawning_poses[\"whisk\"])\n",
    "wooden_spoon = Object(\"woodenspoon\", \"woodenspoon\", \"woodenspoon.stl\", spawning_poses[\"woodenspoon\"])\n",
    "#fork = Object(\"fork\", \"fork\", \"fork.stl\", spawning_poses['fork'])\n",
    "big_bowl = Object(\"big-bowl\", \"big-bowl\", \"big-bowl.stl\", spawning_poses[\"big-bowl\"])\n",
    "#pan = Object(\"pan\", \"pan\", \"pan.stl\", spawning_poses['big-bowl'])\n",
    "#pot = Object(\"pot\", \"pot\", \"pot.stl\", spawning_poses['pot'])\n",
    "whisk_BO = BelieveObject(names=[\"whisk\"])\n",
    "big_bowl_BO = BelieveObject(names=[\"big-bowl\"])\n",
    "wooden_spoon_BO = BelieveObject(names=[\"woodenspoon\"])\n",
    "#pan_BO = BelieveObject(names=[\"pan\"])\n",
    "#pot_BO = BelieveObject(names=[\"pot\"])"
   ],
   "metadata": {
    "collapsed": false,
    "pycharm": {
     "name": "#%%\n"
    }
   }
  },
  {
   "cell_type": "code",
   "execution_count": 7,
   "outputs": [
    {
     "name": "stdout",
     "output_type": "stream",
     "text": [
      "[INFO] [1722935605.568373]: Adjusted target pose based on special knowledge for grasp: top\n"
     ]
    },
    {
     "name": "stderr",
     "output_type": "stream",
     "text": [
      "* Owlready2 * Running Pellet...\n",
      "    java -Xmx2000M -cp /usr/local/lib/python3.8/dist-packages/owlready2/pellet/slf4j-log4j12-1.6.4.jar:/usr/local/lib/python3.8/dist-packages/owlready2/pellet/jena-iri-0.9.5.jar:/usr/local/lib/python3.8/dist-packages/owlready2/pellet/owlapi-distribution-3.4.3-bin.jar:/usr/local/lib/python3.8/dist-packages/owlready2/pellet/antlr-3.2.jar:/usr/local/lib/python3.8/dist-packages/owlready2/pellet/xercesImpl-2.10.0.jar:/usr/local/lib/python3.8/dist-packages/owlready2/pellet/antlr-runtime-3.2.jar:/usr/local/lib/python3.8/dist-packages/owlready2/pellet/httpclient-4.2.3.jar:/usr/local/lib/python3.8/dist-packages/owlready2/pellet/log4j-1.2-api-2.19.0.jar:/usr/local/lib/python3.8/dist-packages/owlready2/pellet/slf4j-api-1.6.4.jar:/usr/local/lib/python3.8/dist-packages/owlready2/pellet/httpcore-4.2.2.jar:/usr/local/lib/python3.8/dist-packages/owlready2/pellet/log4j-api-2.19.0.jar:/usr/local/lib/python3.8/dist-packages/owlready2/pellet/xml-apis-1.4.01.jar:/usr/local/lib/python3.8/dist-packages/owlready2/pellet/jena-arq-2.10.0.jar:/usr/local/lib/python3.8/dist-packages/owlready2/pellet/jena-tdb-0.10.0.jar:/usr/local/lib/python3.8/dist-packages/owlready2/pellet/jena-core-2.10.0.jar:/usr/local/lib/python3.8/dist-packages/owlready2/pellet/jcl-over-slf4j-1.6.4.jar:/usr/local/lib/python3.8/dist-packages/owlready2/pellet/log4j-core-2.19.0.jar:/usr/local/lib/python3.8/dist-packages/owlready2/pellet/commons-codec-1.6.jar:/usr/local/lib/python3.8/dist-packages/owlready2/pellet/pellet-2.3.1.jar:/usr/local/lib/python3.8/dist-packages/owlready2/pellet/aterm-java-1.6.jar:/usr/local/lib/python3.8/dist-packages/owlready2/pellet/jgrapht-jdk1.5.jar pellet.Pellet realize --loader Jena --input-format N-Triples --ignore-imports /tmp/tmphohvavio\n"
     ]
    },
    {
     "name": "stdout",
     "output_type": "stream",
     "text": [
      "['folding']\n",
      "[{'folding_rotation_shift': 90, 'repetitive_folding_rotation_shift': 22.5, 'radius_bounds': [0.7, 0.0]}]\n",
      "Objects dimensions: [0.25047288024425507, 0.2504728802442552, 0.11716735297441483]\n",
      "Tool dimensions: [0.09302983708121038, 0.09505533000775945, 0.2866043447799642]\n"
     ]
    },
    {
     "name": "stderr",
     "output_type": "stream",
     "text": [
      "* Owlready2 * Pellet took 0.9388718605041504 seconds\n",
      "* Owlready * Reparenting FoldingTask(?x), Ingredient(?ing1), hasIngredient(?x, ?ing1), Motion(?motion), performMotion(?x, ?motion) -> FoldingMotion(?motion): {swrl.Imp} => {owl.Thing}\n",
      "* Owlready * Reparenting mixing.motion: {mixing.Motion} => {mixing.FoldingMotion}\n",
      "* Owlready * (NB: only changes on entities loaded in Python are shown, other changes are done but not listed)\n"
     ]
    }
   ],
   "source": [
    "with simulated_robot:\n",
    "    ParkArmsAction([Arms.BOTH]).resolve().perform()\n",
    "    MoveTorsoAction([0.33]).resolve().perform()\n",
    "    arm = \"left\"\n",
    "\n",
    "    pickup_pose_knife = CostmapLocation(target=wooden_spoon_BO.resolve(), reachable_for=robot_desig).resolve()\n",
    "\n",
    "    NavigateAction(target_locations=[pickup_pose_knife.pose]).resolve().perform()\n",
    "\n",
    "    PickUpAction(object_designator_description=wooden_spoon_BO,\n",
    "                 arms=pickup_pose_knife.reachable_arms,\n",
    "                 grasps=[\"top\"]).resolve().perform()\n",
    "\n",
    "    ParkArmsAction([Arms.BOTH]).resolve().perform()\n",
    "    original_quaternion = [0, 0, 0, 1]\n",
    "    rotation_axis = [0, 0, 1]\n",
    "\n",
    "    rotation_quaternion = helper.axis_angle_to_quaternion(rotation_axis, 180)\n",
    "    resulting_quaternion = helper.multiply_quaternions(original_quaternion, rotation_quaternion)\n",
    "\n",
    "    nav_pose = Pose([-0.3, 0.9, 0.0], resulting_quaternion)\n",
    "\n",
    "    NavigateAction(target_locations=[nav_pose]).resolve().perform()\n",
    "    LookAtAction(targets=[big_bowl_BO.resolve().pose]).resolve().perform()\n",
    "    mixing_resolver = MixingActionSWRL(object_designator_description=big_bowl_BO,\n",
    "                                       object_tool_designator_description=wooden_spoon_BO,\n",
    "                                       ingredients=[\"butter\"],\n",
    "                                       task=\"folding task\",\n",
    "                                       arms=[\"left\"],\n",
    "                                       grasps=[\"top\"]).parameters_from_owl().perform()"
   ],
   "metadata": {
    "collapsed": false,
    "pycharm": {
     "name": "#%%\n"
    }
   }
  }
 ],
 "metadata": {
  "kernelspec": {
   "display_name": "Python 3",
   "language": "python",
   "name": "python3"
  },
  "language_info": {
   "codemirror_mode": {
    "name": "ipython",
    "version": 2
   },
   "file_extension": ".py",
   "mimetype": "text/x-python",
   "name": "python",
   "nbconvert_exporter": "python",
   "pygments_lexer": "ipython2",
   "version": "2.7.6"
  }
 },
 "nbformat": 4,
 "nbformat_minor": 0
}